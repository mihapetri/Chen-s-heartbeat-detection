{
  "nbformat": 4,
  "nbformat_minor": 0,
  "metadata": {
    "colab": {
      "name": "Machine_Translator.ipynb",
      "provenance": [],
      "collapsed_sections": [],
      "include_colab_link": true
    },
    "kernelspec": {
      "display_name": "Python 3",
      "name": "python3"
    }
  },
  "cells": [
    {
      "cell_type": "markdown",
      "metadata": {
        "id": "view-in-github",
        "colab_type": "text"
      },
      "source": [
        "<a href=\"https://colab.research.google.com/github/mihapetri/Chen-s-heartbeat-detection/blob/main/Machine_Translator.ipynb\" target=\"_parent\"><img src=\"https://colab.research.google.com/assets/colab-badge.svg\" alt=\"Open In Colab\"/></a>"
      ]
    },
    {
      "cell_type": "markdown",
      "metadata": {
        "id": "iHECRIFh8ZRO"
      },
      "source": [
        "[![Open In Colab](https://colab.research.google.com/assets/colab-badge.svg)](https://colab.research.google.com/github/googlecolab/colabtools/blob/master/notebooks/colab-github-demo.ipynb)\n",
        "\n",
        "**Machine translation with OpenNMT.**"
      ]
    },
    {
      "cell_type": "markdown",
      "metadata": {
        "id": "RRwR31FSq9gX"
      },
      "source": [
        "**1. Setting up the environment**"
      ]
    },
    {
      "cell_type": "code",
      "metadata": {
        "id": "CClOS9iT1Fsp"
      },
      "source": [
        "# install OpenNMT\n",
        "!pip3 install git+https://github.com/OpenNMT/OpenNMT-py.git"
      ],
      "execution_count": null,
      "outputs": []
    },
    {
      "cell_type": "code",
      "metadata": {
        "id": "Esz4fKZRGVvx"
      },
      "source": [
        "# remember to restart runtime after the execution of the following line\n",
        "!pip3 install --ignore-installed torch==1.6.0+cu101 -f https://download.pytorch.org/whl/torch_stable.html"
      ],
      "execution_count": null,
      "outputs": []
    },
    {
      "cell_type": "code",
      "metadata": {
        "id": "ImU4pEre7MJ0"
      },
      "source": [
        "# Install gdown for downloading files from Google Drive\n",
        "!pip install gdown"
      ],
      "execution_count": null,
      "outputs": []
    },
    {
      "cell_type": "markdown",
      "metadata": {
        "id": "gL0AjOQarIOh"
      },
      "source": [
        "**2. Downloading data**"
      ]
    },
    {
      "cell_type": "markdown",
      "metadata": {
        "id": "afqZlsSWqt_d"
      },
      "source": [
        "Download all the files needed for training and testing."
      ]
    },
    {
      "cell_type": "code",
      "metadata": {
        "id": "LNNBhkb38KV4"
      },
      "source": [
        "# download all the files\n",
        "\n",
        "# TC3 train, validation and test files\n",
        "!gdown  https://drive.google.com/uc?id=1-t1CPbmi7GIVQxqKdYIxDPhmilBmOPaj\n",
        "!unzip NLP_general.zip\n",
        "\n",
        "\n",
        "# Military corpora for the domain translator\n",
        "!gdown https://drive.google.com/uc?id=1BnbGF_hAWsHMbeQ5Xuz9yXaW-qdHbgii\n",
        "!unzip NLP_domain.zip\n",
        "\n",
        "\n",
        "# Sentences for testing\n",
        "#!gdown https://drive.google.com/uc?id=1NoRuGY9GJcvUXJxz0Cw4VtSzyU4MljiH\n",
        "#!unzip testset.zip"
      ],
      "execution_count": null,
      "outputs": []
    },
    {
      "cell_type": "markdown",
      "metadata": {
        "id": "Wkmsh0QmsFP9"
      },
      "source": [
        "If you don't want to train you can use some of the pretrained models. If so you can just skip to **4. Translating sentences**."
      ]
    },
    {
      "cell_type": "code",
      "metadata": {
        "id": "Y-5ywtV_sACa"
      },
      "source": [
        "# Download the source and target vocabulary\n",
        "\n",
        "#!gdown https://drive.google.com/uc?id=1s40dbwpNfu7QO7HkXcP61pyPnm1ZCjeY\n",
        "#!gdown https://drive.google.com/uc?id=1YdKH3AXPl0MKOBaOxcV4cg4SpJ7EM01v\n",
        "\n",
        "\n",
        "# Pretrained general model\n",
        "#!gdown https://drive.google.com/uc?id=1lNLgBY7LHveaUdd8_v0hKK07I58V9sJZ\n",
        "# model with ADAM optimizer\n",
        "#!gdown https://drive.google.com/uc?id=1tzeFIYh4cCk4GppO4ybrzwOPX7pOoV5o\n",
        "\n",
        "\n",
        "# Pretrained domain model\n",
        "#!gdown https://drive.google.com/uc?id=1-0-ar-kjLg2ArXYV8BCHd2uW9s1VUBHb"
      ],
      "execution_count": null,
      "outputs": []
    },
    {
      "cell_type": "markdown",
      "metadata": {
        "id": "1-GLAoN4rQKC"
      },
      "source": [
        "**3. Building the vocabulary and training the model**"
      ]
    },
    {
      "cell_type": "code",
      "metadata": {
        "id": "9jgYJhuzzh96"
      },
      "source": [
        "# Create a configuration file for building the vocabulary\n",
        "config = '''# military_config.yaml\n",
        "\n",
        "## Where the samples will be written\n",
        "save_data: run/example\n",
        "\n",
        "## Where the vocab(s) will be written\n",
        "src_vocab: example.vocab.src\n",
        "tgt_vocab: example.vocab.tgt\n",
        "\n",
        "## Where the model will be saved\n",
        "save_model: model/model\n",
        "\n",
        "# Prevent overwriting existing files in the folder\n",
        "overwrite: False\n",
        "\n",
        "# Corpus opts:\n",
        "data:\n",
        "    corpus_1:\n",
        "        path_src: tc3_train_en.txt\n",
        "        path_tgt: tc3_train_sl.txt\n",
        "    valid:\n",
        "        path_src: tc3_val_en.txt\n",
        "        path_tgt: tc3_val_sl.txt\n",
        "\n",
        "    corpus_2:\n",
        "        path_src: mil_train_en.txt\n",
        "        path_tgt: mil_train_sl.txt\n",
        "\n",
        "    valid:\n",
        "        path_src: mil_val_en.txt\n",
        "        path_tgt: mil_val_sl.txt\n",
        "\n",
        "world_size: 1\n",
        "gpu_ranks: [0]\n",
        "'''\n",
        "\n",
        "with open(\"military_config.yaml\", \"w+\") as config_yaml:\n",
        "  config_yaml.write(config)\n",
        "\n",
        "!cat military_config.yaml"
      ],
      "execution_count": null,
      "outputs": []
    },
    {
      "cell_type": "code",
      "metadata": {
        "id": "eRMJGSan8FoF"
      },
      "source": [
        "# Build vocabulary\n",
        "\n",
        "!onmt_build_vocab -config military_config.yaml -n_sample -1"
      ],
      "execution_count": null,
      "outputs": []
    },
    {
      "cell_type": "markdown",
      "metadata": {
        "id": "EpwcIXlRusP9"
      },
      "source": [
        "You can find the training documentation [here](https://opennmt.net/OpenNMT-py/options/train.html)."
      ]
    },
    {
      "cell_type": "code",
      "metadata": {
        "id": "U03uOgiZaN32"
      },
      "source": [
        "# Update config for training\n",
        "\n",
        "config = '''# military_config.yaml\n",
        "\n",
        "## Where the samples will be written\n",
        "save_data: run/example\n",
        "\n",
        "## Where the vocab(s) will be written\n",
        "src_vocab: example.vocab.src\n",
        "tgt_vocab: example.vocab.tgt\n",
        "\n",
        "## Where the model will be saved\n",
        "save_model: model/model\n",
        "\n",
        "# Prevent overwriting existing files in the folder\n",
        "overwrite: False\n",
        "\n",
        "# Corpus opts:\n",
        "data:\n",
        "    corpus_1:\n",
        "        path_src: tc3_train_en.txt\n",
        "        path_tgt: tc3_train_sl.txt\n",
        "    valid:\n",
        "        path_src: tc3_val_en.txt\n",
        "        path_tgt: tc3_val_sl.txt\n",
        "\n",
        "\n",
        "skip_empty_level: silent\n",
        "\n",
        "train_steps: 10000\n",
        "valid_steps: 2000\n",
        "\n",
        "src_vocab_size: 150000\n",
        "tgt_vocab_size: 150000\n",
        "\n",
        "world_size: 1\n",
        "gpu_ranks: [0]\n",
        "\n",
        "## setting up some important parameters\n",
        "\n",
        "encoder_type: \"rnn\"   # Possible choices: rnn, brnn, ggnn, mean, transformer, cnn, transformer_lm\n",
        "decoder_type: \"rnn\"   # Possible choices: rnn, transformer, cnn, transformer_lm\n",
        "enc_layers: 2\n",
        "dec_layers: 2\n",
        "n_node: 4\n",
        "n_steps: 4\n",
        "rnn_type: \"LSTM\"      # Possible choices: LSTM, GRU, SRU\n",
        "\n",
        "optim: \"sgd\"          # Possible choices: sgd, adagrad, adadelta, adam, sparseadam, adafactor, fusedadam\n",
        "dropout: 0.3\n",
        "attention_dropout: 0.1\n",
        "'''\n",
        "\n",
        "with open(\"military_config.yaml\", \"w+\") as config_yaml:\n",
        "  config_yaml.write(config)\n",
        "\n",
        "!cat military_config.yaml"
      ],
      "execution_count": null,
      "outputs": []
    },
    {
      "cell_type": "code",
      "metadata": {
        "id": "B6mgFwEX90UP"
      },
      "source": [
        "# Train the model\n",
        "!onmt_train -config military_config.yaml\n",
        "\n",
        "\n",
        "# Or continue training a previous model \n",
        "#!onmt_train -train_from general_model.pt -config military_config.yaml"
      ],
      "execution_count": null,
      "outputs": []
    },
    {
      "cell_type": "markdown",
      "metadata": {
        "id": "xT4g43sirYwL"
      },
      "source": [
        "**4. Translating sentences**"
      ]
    },
    {
      "cell_type": "code",
      "metadata": {
        "id": "GQtKJduoXCz7"
      },
      "source": [
        "# Translate\n",
        "\n",
        "!onmt_translate -model general_model.pt -src tc_test_en.txt -output translation.txt -gpu 0 -verbose"
      ],
      "execution_count": null,
      "outputs": []
    }
  ]
}